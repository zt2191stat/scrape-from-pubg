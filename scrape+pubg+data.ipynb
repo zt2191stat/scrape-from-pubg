{
 "cells": [
  {
   "cell_type": "code",
   "execution_count": 2,
   "metadata": {
    "collapsed": true
   },
   "outputs": [],
   "source": [
    "import cfscrape\n",
    "import numpy as np\n",
    "from bs4 import BeautifulSoup\n",
    "import requests\n",
    "import csv\n",
    "\n",
    "\n",
    "def get_soup(url):\n",
    "    scraper = cfscrape.create_scraper()\n",
    "    req = scraper.get(url)\n",
    "    html = req.text\n",
    "    soup = BeautifulSoup(html, 'lxml')\n",
    "    return soup"
   ]
  },
  {
   "cell_type": "code",
   "execution_count": 1,
   "metadata": {
    "collapsed": true
   },
   "outputs": [],
   "source": [
    "import pandas as pd\n",
    "def get_player(name):\n",
    "    url = 'https://pubg.me/player/'\n",
    "    link_pool = []\n",
    "    for player in name:\n",
    "        link = url + player + '/duo'\n",
    "        link_pool.append(link)\n",
    "    return link_pool\n",
    "\n",
    "# concatenate all the data\n",
    "def get_all(link_pool):\n",
    "    i=0\n",
    "    while(get_data(link_pool[i])[0] == ['ID']):\n",
    "        i = i+1\n",
    "    data_list = np.array(get_data(link_pool[i])[0])\n",
    "    for link in link_pool:\n",
    "        user = get_data(link)[1]\n",
    "        if len(user) == 1:                          \n",
    "            data_list = np.vstack([data_list, user+[\"NAN\"]*37])\n",
    "        else:\n",
    "            data_list = np.vstack([data_list, user])\n",
    "    return data_list\n",
    "\n",
    "\n",
    "# get player data from each page\n",
    "def get_data(url):\n",
    "    soup = get_soup(url)\n",
    "    data = soup.find_all('div', class_='card mb-3')\n",
    "    ID = url.split(\"/\")[4]\n",
    "    if data == []:\n",
    "        return [[\"ID\"] + [\"NAN\"]*37 , [ID] + [\"NAN\"]*37]\n",
    "    else:\n",
    "        data_list = []\n",
    "        for i in data:\n",
    "            data_list += i.find_all('div', class_='col-md-4')\n",
    "        value_list = []\n",
    "        label_list = []\n",
    "        label_list.append(\"ID\")\n",
    "        value_list.append(ID)\n",
    "        for i in data_list:\n",
    "            for j in i.contents:\n",
    "                value_list.append(j.contents[0].string)\n",
    "                label_list.append(j.contents[-1].string)\n",
    "        return [label_list, value_list]\n"
   ]
  },
  {
   "cell_type": "code",
   "execution_count": 3,
   "metadata": {
    "collapsed": true
   },
   "outputs": [],
   "source": [
    "data = pd.read_csv(\"PUBG_Player_Statistics.csv\")\n",
    "name = data['player_name']"
   ]
  },
  {
   "cell_type": "code",
   "execution_count": 4,
   "metadata": {
    "collapsed": true
   },
   "outputs": [],
   "source": [
    "name = name.tolist()"
   ]
  },
  {
   "cell_type": "code",
   "execution_count": 5,
   "metadata": {
    "collapsed": true
   },
   "outputs": [],
   "source": [
    "pool = get_player(name)"
   ]
  },
  {
   "cell_type": "code",
   "execution_count": 12,
   "metadata": {
    "collapsed": true
   },
   "outputs": [],
   "source": [
    "def out_csv(pool):\n",
    "    data = get_all(pool)\n",
    "    name = 'pubg_data_duo.csv' \n",
    "    with open(name, \"w\") as f:\n",
    "        writer = csv.writer(f)\n",
    "        writer.writerows(data)\n"
   ]
  },
  {
   "cell_type": "code",
   "execution_count": null,
   "metadata": {
    "collapsed": true
   },
   "outputs": [],
   "source": [
    "out_csv(pool[:10000])"
   ]
  }
 ],
 "metadata": {
  "kernelspec": {
   "display_name": "Python 3",
   "language": "python",
   "name": "python3"
  },
  "language_info": {
   "codemirror_mode": {
    "name": "ipython",
    "version": 3
   },
   "file_extension": ".py",
   "mimetype": "text/x-python",
   "name": "python",
   "nbconvert_exporter": "python",
   "pygments_lexer": "ipython3",
   "version": "3.6.3"
  }
 },
 "nbformat": 4,
 "nbformat_minor": 2
}
